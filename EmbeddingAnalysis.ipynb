{
 "cells": [
  {
   "cell_type": "markdown",
   "metadata": {
    "ExecuteTime": {
     "end_time": "2021-03-30T11:20:46.306502Z",
     "start_time": "2021-03-30T11:20:46.193497Z"
    }
   },
   "source": [
    "# Import Modules"
   ]
  },
  {
   "cell_type": "code",
   "execution_count": null,
   "metadata": {},
   "outputs": [],
   "source": [
    "import h5py as h5\n",
    "import pathlib\n",
    "import importlib\n",
    "\n",
    "#Methods modules\n",
    "import numpy as np\n",
    "from scipy import ndimage\n",
    "from scipy import linalg as la\n",
    "import umap\n",
    "\n",
    "#Display modules\n",
    "import matplotlib.pyplot as plt\n",
    "from seaborn import heatmap\n",
    "import matplotlib.cm as cm\n",
    "\n",
    "# User defined modules\n",
    "import userfunctions as uf\n",
    "import clusteranalysis as cn\n"
   ]
  },
  {
   "cell_type": "markdown",
   "metadata": {
    "ExecuteTime": {
     "end_time": "2021-03-30T11:20:51.968646Z",
     "start_time": "2021-03-30T11:20:51.958646Z"
    },
    "heading_collapsed": true
   },
   "source": [
    "# Import Files"
   ]
  },
  {
   "cell_type": "code",
   "execution_count": null,
   "metadata": {
    "hidden": true
   },
   "outputs": [],
   "source": [
    "# Define main path\n",
    "main_path = pathlib.Path().absolute()\n",
    "\n",
    "#or input path manually\n",
    "#main_path = input('Main working directory: ')"
   ]
  },
  {
   "cell_type": "code",
   "execution_count": null,
   "metadata": {
    "hidden": true
   },
   "outputs": [],
   "source": [
    "#data_name = 'bevstatep8_9'\n",
    "data_name = input('Name of dataset to be used: ')\n",
    "datadir = main_path+data_name\n",
    "data = h5.File(datadir,'r')\n",
    "print(list(data.keys()))"
   ]
  },
  {
   "cell_type": "markdown",
   "metadata": {
    "hidden": true
   },
   "source": [
    "The dataset used is an .h5 file that should contain the kinematic variables displayed by the key. Respectively\n",
    "\n",
    "    - 'Average distance'\n",
    "    - 'Alignment' - associated with to heading alignment\n",
    "    - 'acc Alignment' - associated to the acceleration alignment\n",
    "    - 'Mean speed'\n",
    "    - 'mean tail beating rate'\n",
    "    - 'var tail beating rate' -  from which the deviation is computed "
   ]
  },
  {
   "cell_type": "code",
   "execution_count": null,
   "metadata": {
    "hidden": true
   },
   "outputs": [],
   "source": [
    "X1 = np.zeros((6,len(data['Alignment'])))\n",
    "\n",
    "#Normalize the variables used to the interval between 0 and 1\n",
    "\n",
    "X1[0] = data['Average distance']/np.max(data['Average distance'])\n",
    "X1[3] = data['Mean speed']/np.max(data['Mean speed'])\n",
    "X1[4,:-1] = data['mean tail beating rate']/np.max(data['mean tail beating rate'])\n",
    "\n",
    "#Transform alignment variables\n",
    "X1[1] = np.arccos(data['Alignment'])/np.pi\n",
    "X1[2] =np.arccos(data['acc alignment'])/np.pi\n",
    "\n",
    "#compute the deviation of the tail beating rate\n",
    "X1[5,:-1] = np.sqrt(data['var tail beating rate'][:])/data['mean tail beating rate']\n",
    "\n",
    "X = np.nan_to_num(X1)[:,:]"
   ]
  },
  {
   "cell_type": "markdown",
   "metadata": {
    "heading_collapsed": true
   },
   "source": [
    "# Embedding process and cluster analysis"
   ]
  },
  {
   "cell_type": "markdown",
   "metadata": {
    "heading_collapsed": true,
    "hidden": true
   },
   "source": [
    "## Select embedding sample "
   ]
  },
  {
   "cell_type": "code",
   "execution_count": null,
   "metadata": {
    "hidden": true
   },
   "outputs": [],
   "source": [
    "N = 100000\n",
    "rand_vec1 = uf.min_dist_vec(X,N)\n",
    "rand_vec2 = rand_vec1[np.array(np.sort(np.random.rand(4000)*(len(rand_vec1)-1)),'int32')]"
   ]
  },
  {
   "cell_type": "markdown",
   "metadata": {
    "heading_collapsed": true,
    "hidden": true
   },
   "source": [
    "## Embedding"
   ]
  },
  {
   "cell_type": "markdown",
   "metadata": {
    "ExecuteTime": {
     "end_time": "2021-03-30T11:22:39.008088Z",
     "start_time": "2021-03-30T11:22:39.000083Z"
    },
    "heading_collapsed": true,
    "hidden": true
   },
   "source": [
    "### Run if saved embedding available"
   ]
  },
  {
   "cell_type": "code",
   "execution_count": null,
   "metadata": {
    "hidden": true
   },
   "outputs": [],
   "source": [
    "embed_load_name = input('What is the embedding file to be opened?: ')\n",
    "embed_data = embed_load_name + '.h5'"
   ]
  },
  {
   "cell_type": "code",
   "execution_count": null,
   "metadata": {
    "hidden": true
   },
   "outputs": [],
   "source": [
    "#embed_data = 'embp8_9.h5'\n",
    "embeddingA1_file = h5.File(main_path+embed_data,'r')\n",
    "embeddingA1 = embeddingA1_file['data']"
   ]
  },
  {
   "cell_type": "markdown",
   "metadata": {
    "heading_collapsed": true,
    "hidden": true
   },
   "source": [
    "### Run if saved embedding not available"
   ]
  },
  {
   "cell_type": "code",
   "execution_count": null,
   "metadata": {
    "hidden": true
   },
   "outputs": [],
   "source": [
    "lr = input('What is the learning_rate to be used: ')\n",
    "\n",
    "#reducer1 = umap.UMAP(learning_rate=7.0,random_state=42)\n",
    "reducer1 = umap.UMAP(learning_rate=lr,random_state=42)\n",
    "reducer1.fit(X[:,rand_vec2].T)\n",
    "embeddingA1 = reducer1.transform(X[:,rand_vec1].T)"
   ]
  },
  {
   "cell_type": "markdown",
   "metadata": {
    "heading_collapsed": true,
    "hidden": true
   },
   "source": [
    "#### Save embedding for later uses "
   ]
  },
  {
   "cell_type": "code",
   "execution_count": 4,
   "metadata": {
    "ExecuteTime": {
     "end_time": "2021-03-30T11:50:51.137880Z",
     "start_time": "2021-03-30T11:50:37.750901Z"
    },
    "hidden": true
   },
   "outputs": [
    {
     "name": "stdout",
     "output_type": "stream",
     "text": [
      "Name of savefileabc\n"
     ]
    }
   ],
   "source": [
    "embed_save_name = input('Name of savefile: ')\n",
    "embed_save_name = embed_save_name + '.h5'"
   ]
  },
  {
   "cell_type": "code",
   "execution_count": null,
   "metadata": {
    "hidden": true
   },
   "outputs": [],
   "source": [
    "#embed_save = h5.File('embp8_9.h5','w')\n",
    "embed_save = h5.File(embed_save_name,'w')\n",
    "embed_save.create_dataset('data',data = embeddingA1)\n",
    "embed_save.create_dataset('learning_rate',data =7)\n",
    "embed_save.close()"
   ]
  },
  {
   "cell_type": "markdown",
   "metadata": {
    "heading_collapsed": true,
    "hidden": true
   },
   "source": [
    "## Find density peaks and do clustering around them"
   ]
  },
  {
   "cell_type": "markdown",
   "metadata": {
    "heading_collapsed": true,
    "hidden": true
   },
   "source": [
    "### Density Peaks"
   ]
  },
  {
   "cell_type": "code",
   "execution_count": null,
   "metadata": {
    "hidden": true
   },
   "outputs": [],
   "source": [
    "n_bins_kde = int(np.sqrt(len(rand_vec1)))\n",
    "n_filt_kde = int(np.sqrt(n_bins)/2)\n",
    "kdebev, bev1, bev2 = np.histogram2d(embeddingA1[:,0],embeddingA1[:,1],bins=int(np.sqrt(len(rand_vec1))))\n",
    "#f_kdebev = ndimage.gaussian_filter(kdebev,10)\n",
    "f_kdebev = ndimage.gaussian_filter(kdebev,n_filt_kde)"
   ]
  },
  {
   "cell_type": "code",
   "execution_count": 13,
   "metadata": {
    "ExecuteTime": {
     "end_time": "2021-03-30T11:58:51.192989Z",
     "start_time": "2021-03-30T11:58:51.177984Z"
    },
    "hidden": true
   },
   "outputs": [
    {
     "data": {
      "text/plain": [
       "7.0710678118654755"
      ]
     },
     "execution_count": 13,
     "metadata": {},
     "output_type": "execute_result"
    }
   ],
   "source": [
    "#Dby, Dbx = uf.diff_2d(f_kdebev)\n",
    "#Dbxy, Dbxx = uf.diff_2d(Dbx)\n",
    "#Dbyy, Dbyx = uf.diff_2d(Dby)\n",
    "MX = uf.peaks_2D(f_kdebev)"
   ]
  },
  {
   "cell_type": "markdown",
   "metadata": {
    "heading_collapsed": true,
    "hidden": true
   },
   "source": [
    "### Cluster Labelling"
   ]
  },
  {
   "cell_type": "code",
   "execution_count": null,
   "metadata": {
    "hidden": true
   },
   "outputs": [],
   "source": [
    "thpca01 = (MX) > 0.05*(np.max(MX))\n",
    "dil_thpca = (morphology.binary_dilation(thpca01))\n",
    "blobs = measure.label(dil_thpca)\n",
    "qthr1, qthr2, res, thr = cn.kmeans_cluster_bev(embeddingA1,blobs) "
   ]
  },
  {
   "cell_type": "markdown",
   "metadata": {
    "heading_collapsed": true,
    "hidden": true
   },
   "source": [
    "### Temporal Assignment"
   ]
  },
  {
   "cell_type": "code",
   "execution_count": null,
   "metadata": {
    "hidden": true
   },
   "outputs": [],
   "source": [
    "N = len(res)\n",
    "bevmat = np.zeros((int(len(X[0])),N))\n",
    "\n",
    "for i in range(bevmat.shape[1]):\n",
    "    bevmat[np.arange(int(len(X[0])))[rand_vec1][res[i]],i] = 1\n",
    "    \n",
    "r_1 = int(len(X[0])/len(rand_vec1))\n",
    "bevmat_conv = np.zeros(bevmat.shape)\n",
    "for i in range(len(rand_vec1)):\n",
    "    bevmat_conv[i*r_1:(i+1)*r_1] = bevmat[rand_vec1[i]]"
   ]
  },
  {
   "cell_type": "markdown",
   "metadata": {
    "heading_collapsed": true,
    "hidden": true
   },
   "source": [
    "## Symbolic Analysis "
   ]
  },
  {
   "cell_type": "markdown",
   "metadata": {
    "heading_collapsed": true,
    "hidden": true
   },
   "source": [
    "### Cluster Labelling Process"
   ]
  },
  {
   "cell_type": "code",
   "execution_count": null,
   "metadata": {
    "hidden": true
   },
   "outputs": [],
   "source": [
    "behav_label = cn.cluster_label_behaviors(X,bevmat_conv) \n",
    "\n",
    "pas_disp = behav_label[0]\n",
    "act_disp = behav_label[1]\n",
    "sym_fight = behav_label[2]\n",
    "asym_fight = behav_label[3]\n",
    "freeze = behav_label[4]\n",
    "other = behav_label[5]"
   ]
  },
  {
   "cell_type": "code",
   "execution_count": null,
   "metadata": {
    "hidden": true
   },
   "outputs": [],
   "source": [
    "# Shift order of bevmat_conv\n",
    "bevmat_conv2 = cn.reorder_label_bevmat(behav_label,bevmat_conv)"
   ]
  },
  {
   "cell_type": "code",
   "execution_count": null,
   "metadata": {
    "hidden": true
   },
   "outputs": [],
   "source": [
    "symbseq = cn.symbol_seq(bevmat_conv2)\n",
    "compseq,t_dwell = cn.compress_seq(symbseq)\n",
    "avg_td, std_td = cn.t_dwell_dist(t_dwell,bevmat.shape[1],0.01)"
   ]
  },
  {
   "cell_type": "code",
   "execution_count": null,
   "metadata": {
    "hidden": true
   },
   "outputs": [],
   "source": [
    "avg_var = cn.cluster_bev_avg(X,bevmat_conv2)"
   ]
  },
  {
   "cell_type": "code",
   "execution_count": null,
   "metadata": {
    "hidden": true
   },
   "outputs": [],
   "source": [
    "as_fight_c1 = np.concatenate(np.array(qthr1)[asym_fight[:]],axis=0)\n",
    "as_fight_c2 = np.concatenate(np.array(qthr2)[asym_fight[:]],axis=0)\n",
    "sym_fight_c1 = np.concatenate(np.array(qthr1)[sym_fight[:]],axis=0)\n",
    "sym_fight_c2 = np.concatenate(np.array(qthr2)[sym_fight[:]],axis=0)\n",
    "freeze_c1 = np.concatenate(np.array(qthr1)[freeze],axis=0)\n",
    "freeze_c2 = np.concatenate(np.array(qthr2)[freeze],axis=0)\n",
    "pdisplay_c1 = np.concatenate(np.array(qthr1)[pas_disp[:]],axis=0)\n",
    "pdisplay_c2 = np.concatenate(np.array(qthr2)[pas_disp[:]],axis=0)\n",
    "adisplay_c1 = np.concatenate(np.array(qthr1)[act_disp],axis=0)\n",
    "adisplay_c2 = np.concatenate(np.array(qthr2)[act_disp],axis=0)\n",
    "other_c1 = np.concatenate(np.array(qthr1)[other],axis=0)\n",
    "other_c2 = np.concatenate(np.array(qthr2)[other],axis=0)\n"
   ]
  },
  {
   "cell_type": "markdown",
   "metadata": {
    "heading_collapsed": true,
    "hidden": true
   },
   "source": [
    "### Eigenspectrum and dynamics"
   ]
  },
  {
   "cell_type": "code",
   "execution_count": null,
   "metadata": {
    "hidden": true
   },
   "outputs": [],
   "source": [
    "# Compute transition matrix\n",
    "Msymb = cn.transition_matrix_tau(compseq,1)\n",
    "m1_2 = cn.prop_trans_mat(Msymb)"
   ]
  },
  {
   "cell_type": "code",
   "execution_count": null,
   "metadata": {
    "hidden": true
   },
   "outputs": [],
   "source": [
    "# Compute eigenvalue for different transitions\n",
    "eig_tau, ent2_v,H_v = cn.process_analysis(compseq,bevmat_conv2.shape[1])"
   ]
  },
  {
   "cell_type": "code",
   "execution_count": null,
   "metadata": {
    "hidden": true
   },
   "outputs": [],
   "source": [
    "# Compute eigenvalues for a random process\n",
    "rnd_seq = uf.gen_rand_seq(compseq)\n",
    "eig_tau_rnd, ent2_v_rnd,H_v_rnd = cn.process_analysis(rnd_seq,bevmatconv2.shape[1])"
   ]
  },
  {
   "cell_type": "code",
   "execution_count": null,
   "metadata": {
    "hidden": true
   },
   "outputs": [],
   "source": [
    "# Compute eigenvectors\n",
    "eig_sys = la.eig(np.nan_to_num(m1_2),left=False)\n",
    "eig_v = np.abs(eig_sys[0])\n",
    "eig_u1 = eig_sys[1].T\n",
    "loc_eig = np.argsort(eig_v)[::-1]\n",
    "eig_u1 = eig_u1[loc_eig]\n",
    "eig_u = np.dot(eig_u1,m1_2)"
   ]
  },
  {
   "cell_type": "markdown",
   "metadata": {
    "heading_collapsed": true
   },
   "source": [
    "# Visualization"
   ]
  },
  {
   "cell_type": "markdown",
   "metadata": {
    "heading_collapsed": true,
    "hidden": true
   },
   "source": [
    "## Kernel Density Estimate"
   ]
  },
  {
   "cell_type": "code",
   "execution_count": null,
   "metadata": {
    "hidden": true
   },
   "outputs": [],
   "source": [
    "plt.figure(figsize=(14,14))\n",
    "\n",
    "plt.title('KDE estimate',fontsize=20)\n",
    "plt.pcolormesh(bev1,bev2,(f_kdebev),cmap='jet')\n",
    "plt.colorbar()\n",
    "plt.xlabel('Z1',fontsize=15)\n",
    "plt.ylabel('Z2',fontsize=15)"
   ]
  },
  {
   "cell_type": "markdown",
   "metadata": {
    "heading_collapsed": true,
    "hidden": true
   },
   "source": [
    "## Averages in clusters"
   ]
  },
  {
   "cell_type": "code",
   "execution_count": null,
   "metadata": {
    "hidden": true
   },
   "outputs": [],
   "source": [
    "max_tb = np.max(data['mean tail beating rate'])\n",
    "max_d = np.max(data['Average distance'])\n",
    "max_s = np.max(data['Mean speed'])\n",
    "max_vtb = np.max(data['var tail beating rate'])"
   ]
  },
  {
   "cell_type": "code",
   "execution_count": null,
   "metadata": {
    "hidden": true
   },
   "outputs": [],
   "source": [
    "plt.figure(figsize=(16,8))\n",
    "plt.subplot(231)\n",
    "plt.bar(np.arange(1,N+1),avg_var[4]*max_tb,alpha=0.5,yerr=avg_var[4]*max_tb/10,color='gold')\n",
    "plt.title('Mean 2$\\pi\\omega(s^{-1})$',fontsize=20)\n",
    "plt.grid()\n",
    "\n",
    "plt.subplot(232)\n",
    "plt.bar(np.arange(1,N+1),avg_var[0]*max_d,alpha=0.5,yerr=avg_var[0]*max_d/10,color='orangered')\n",
    "plt.title('distance (bl)',fontsize=20)\n",
    "plt.grid()\n",
    "\n",
    "plt.subplot(233)\n",
    "plt.bar(np.arange(1,N+1),avg_var[3]*max_s,alpha=0.5,yerr=avg_var[3]*max_s/10,color='cornflowerblue')\n",
    "plt.title('speed (bl/s)',fontsize=20)\n",
    "plt.grid()\n",
    "\n",
    "plt.subplot(234)\n",
    "plt.bar(np.arange(1,N+1),avg_var[1],alpha=0.5,yerr=avg_var[1]/10,color='green')\n",
    "plt.title('alignment',fontsize=20)\n",
    "\n",
    "plt.subplot(235)\n",
    "plt.bar(np.arange(1,N+1),avg_var[2],alpha=0.5,yerr=avg_var[2]/10,color='limegreen')\n",
    "plt.title('Acc. alignment',fontsize=20)\n",
    "\n",
    "plt.subplot(236)\n",
    "plt.bar(np.arange(1,N+1), avg_var[5], alpha=0.5,yerr=avg_var[5]/10,color='goldenrod')\n",
    "plt.title('Dev $\\omega$',fontsize=20)\n",
    "plt.ylim(0.0,0.02)\n",
    "plt.plot\n",
    "plt.grid()"
   ]
  },
  {
   "cell_type": "markdown",
   "metadata": {
    "heading_collapsed": true,
    "hidden": true
   },
   "source": [
    "## Transition Matrix "
   ]
  },
  {
   "cell_type": "code",
   "execution_count": null,
   "metadata": {
    "hidden": true
   },
   "outputs": [],
   "source": [
    "plt.figure(figsize=(12,10))\n",
    "plt.subplot(111)\n",
    "heatmap(np.nan_to_num(m1_2),annot=False,linewidth=1,cmap='Reds',vmin = 0.0,vmax=0.15)"
   ]
  },
  {
   "cell_type": "markdown",
   "metadata": {
    "heading_collapsed": true,
    "hidden": true
   },
   "source": [
    "### Eigenvalues (for different transition steps)"
   ]
  },
  {
   "cell_type": "code",
   "execution_count": null,
   "metadata": {
    "hidden": true
   },
   "outputs": [],
   "source": [
    "plt.figure(figsize=(16,8))\n",
    "\n",
    "tau = np.arange(1,N2+1)\n",
    "\n",
    "plt.subplot(121)\n",
    "\n",
    "\n",
    "plt.plot(tau,eig_tau[:,N1-2])\n",
    "plt.fill_between(tau,eig_tau[:,N1-2]*(1-0.05),eig_tau[:,N1-2]*(1+0.05),alpha=0.3)\n",
    "\n",
    "plt.plot(tau,eig_tau[:,N1-3])\n",
    "plt.fill_between(tau,eig_tau[:,N1-3]*(1-0.05),eig_tau[:,N1-3]*(1+0.05),alpha=0.3)\n",
    "\n",
    "plt.plot(tau,eig_tau[:,N1-4])\n",
    "plt.fill_between(tau,eig_tau[:,N1-4]*(1-0.05),eig_tau[:,N1-4]*(1+0.05),alpha=0.3)\n",
    "\n",
    "plt.plot(tau,eig_tau[0,N1-2]**tau,'b--')\n",
    "plt.plot(tau,eig_tau[0,N1-3]**tau,'r--')\n",
    "plt.plot(tau,eig_tau[0,N1-4]**tau,'g--')\n",
    "\n",
    "plt.plot(tau,eig_tau_rnd[:,0],'k--')\n",
    "\n",
    "plt.legend(['$\\lambda_2$','$\\lambda_3$','$\\lambda_4$','$\\lambda_2$ Markov Model','$\\lambda_3$ Markov Model','$\\lambda_4$ Markov Model','$\\lambda$ Random Model'],fontsize=16)\n",
    "plt.title('Eigenvalue',fontsize=20)\n",
    "plt.xscale('log')\n",
    "#plt.yscale('log')\n",
    "plt.xlabel('$\\\\tau$ (transitions)',fontsize=18)\n",
    "\n",
    "plt.subplot(122)\n",
    "\n",
    "\n",
    "\n",
    "plt.plot(tau,-np.log(eig_tau[:,-2])/tau)\n",
    "plt.plot(tau,-np.log(eig_tau[:,N1-3])/tau)\n",
    "plt.plot(tau,-np.log(eig_tau[:,N1-4])/tau)\n",
    "\n",
    "plt.plot(tau,-np.log(0.01+eig_tau_rnd[:,0])/tau,'k--')\n",
    "plt.title('Decay rate',fontsize=20)\n",
    "plt.xscale('log')\n",
    "plt.yscale('log')\n",
    "plt.xlabel('$\\\\tau$ (transitions)',fontsize=18)\n",
    "plt.ylim(1e-4,1)\n",
    "plt.legend(['$\\lambda_2$','$\\lambda_3$','$\\lambda_4$','$\\lambda$ Random Model'],fontsize=16)"
   ]
  },
  {
   "cell_type": "markdown",
   "metadata": {
    "heading_collapsed": true,
    "hidden": true
   },
   "source": [
    "### Eigenvectors"
   ]
  },
  {
   "cell_type": "code",
   "execution_count": null,
   "metadata": {
    "hidden": true
   },
   "outputs": [],
   "source": [
    "plt.figure(figsize=(16,12))\n",
    "\n",
    "ld1 = len(pas_disp)\n",
    "ld2 = len(pas_disp)+len(act_disp)\n",
    "la2 = ld2 + len(asym_fight)\n",
    "la1 = la2 + len(sym_fight)\n",
    "lfr = la1 + len(freeze)\n",
    "lres = lfr+len(other)\n",
    "\n",
    "plt.subplot(221)\n",
    "plt.bar(np.arange(ld1),np.real(eig_u[0])[:ld1],color='b',alpha=0.5)\n",
    "plt.bar(np.arange(ld1,ld2),np.real(eig_u[0])[ld1:ld2],color='c',alpha=0.5)\n",
    "plt.bar(np.arange(ld2,la2),np.real(eig_u[0])[ld2:la2],color='m',alpha=0.5)\n",
    "plt.bar(np.arange(la2,la1),np.real(eig_u[0])[la2:la1],color='r',alpha=0.5)\n",
    "plt.bar(np.arange(la1,lfr),np.real(eig_u[0])[la1:lfr],color = 'g',alpha=0.5)\n",
    "plt.bar(np.arange(lfr,lres),np.real(eig_u[0])[lfr:lres],color = 'y',alpha=0.5)\n",
    "plt.grid()\n",
    "plt.title('Eigenmodes for $\\lambda_1$',fontsize=20)\n",
    "plt.xlabel('Clusters',fontsize=18)\n",
    "\n",
    "plt.subplot(222)\n",
    "plt.bar(np.arange(ld1),np.real(eig_u[1])[:ld1],color='b',alpha=0.5)\n",
    "plt.bar(np.arange(ld1,ld2),np.real(eig_u[1])[ld1:ld2],color='c',alpha=0.5)\n",
    "plt.bar(np.arange(ld2,la2),np.real(eig_u[1])[ld2:la2],color='m',alpha=0.5)\n",
    "plt.bar(np.arange(la2,la1),np.real(eig_u[1])[la2:la1],color='r',alpha=0.5)\n",
    "plt.bar(np.arange(la1,lfr),np.real(eig_u[1])[la1:lfr],color = 'g',alpha=0.5)\n",
    "plt.bar(np.arange(lfr,lres),np.real(eig_u[1])[lfr:lres],color = 'y',alpha=0.5)\n",
    "plt.grid()\n",
    "plt.title('Eigenmodes for $\\lambda_2$',fontsize=20)\n",
    "plt.xlabel('Clusters',fontsize=18)\n",
    "\n",
    "\n",
    "plt.subplot(223)\n",
    "plt.bar(np.arange(ld1),np.real(eig_u[2])[:ld1],color='b',alpha=0.5)\n",
    "plt.bar(np.arange(ld1,ld2),np.real(eig_u[2])[ld1:ld2],color='c',alpha=0.5)\n",
    "plt.bar(np.arange(ld2,la2),np.real(eig_u[2])[ld2:la2],color='m',alpha=0.5)\n",
    "plt.bar(np.arange(la2,la1),np.real(eig_u[2])[la2:la1],color='r',alpha=0.5)\n",
    "plt.bar(np.arange(la1,lfr),np.real(eig_u[2])[la1:lfr],color = 'g',alpha=0.5)\n",
    "plt.bar(np.arange(lfr,lres),np.real(eig_u[2])[lfr:lres],color = 'y',alpha=0.5)\n",
    "plt.grid()\n",
    "plt.title('Eigenmodes for $\\lambda_3$',fontsize=20)\n",
    "plt.xlabel('Clusters',fontsize=18)\n",
    "\n",
    "plt.subplot(224)\n",
    "plt.bar(np.arange(ld1),np.real(eig_u[3])[:ld1],color='b',alpha=0.5)\n",
    "plt.bar(np.arange(ld1,ld2),np.real(eig_u[3])[ld1:ld2],color='c',alpha=0.5)\n",
    "plt.bar(np.arange(ld2,la2),np.real(eig_u[3])[ld2:la2],color='m',alpha=0.5)\n",
    "plt.bar(np.arange(la2,la1),np.real(eig_u[3])[la2:la1],color='r',alpha=0.5)\n",
    "plt.bar(np.arange(la1,lfr),np.real(eig_u[3])[la1:lfr],color = 'g',alpha=0.5)\n",
    "plt.bar(np.arange(lfr,lres),np.real(eig_u[3])[lfr:lres],color = 'y',alpha=0.5)\n",
    "plt.grid()\n",
    "\n",
    "\n",
    "plt.title('Eigenmodes for $\\lambda_4$',fontsize=20)\n",
    "plt.xlabel('Clusters',fontsize=18)"
   ]
  },
  {
   "cell_type": "markdown",
   "metadata": {
    "heading_collapsed": true,
    "hidden": true
   },
   "source": [
    "#### Eigenvector projections in the clusters"
   ]
  },
  {
   "cell_type": "code",
   "execution_count": null,
   "metadata": {
    "hidden": true
   },
   "outputs": [],
   "source": [
    "new_order_array = np.concatenate(np.array([disp,circle,asym_fight,sym_fight,freeze, n_display]))\n",
    "\n",
    "plt.figure(figsize=(16,6))\n",
    "\n",
    "plt.subplot(131)\n",
    "colors = cm.seismic((10*np.real(eig_u[1]))**3)\n",
    "for i in range(len(res)):\n",
    "    plt.scatter(qthr2[new_order_array[i]],qthr1[new_order_array[i]],color = colors[i])\n",
    "plt.title('Eigenvalue 2',fontsize=16)\n",
    "\n",
    "\n",
    "plt.subplot(132)\n",
    "colors = cm.seismic(10*np.real(eig_u[2]))\n",
    "for i in range(len(res)):\n",
    "    plt.scatter(qthr2[new_order_array[i]],qthr1[new_order_array[i]],color = colors[i])\n",
    "plt.title('Eigenvalue 3',fontsize=16)\n",
    "\n",
    "plt.subplot(133)\n",
    "colors = cm.seismic(10*np.real(eig_u[3]))\n",
    "for i in range(len(res)):\n",
    "    plt.scatter(qthr2[new_order_array[i]],qthr1[new_order_array[i]],color = colors[i])\n",
    "plt.title('Eigenvalue 4',fontsize=16)\n"
   ]
  },
  {
   "cell_type": "markdown",
   "metadata": {
    "heading_collapsed": true,
    "hidden": true
   },
   "source": [
    "## Labelled Clusters"
   ]
  },
  {
   "cell_type": "code",
   "execution_count": null,
   "metadata": {
    "hidden": true
   },
   "outputs": [],
   "source": [
    "plt.figure(figsize=(14,10))\n",
    "\n",
    "plt.plot(pdisplay_c2,pdisplay_c1,'.',alpha=0.7,color='blue')\n",
    "plt.plot(adisplay_c2,adisplay_c1,'.',alpha=0.7,color = 'cyan')\n",
    "plt.plot(as_fight_c2,as_fight_c1,'.',alpha=0.7,color='magenta')\n",
    "plt.plot(sym_fight_c2,sym_fight_c1,'.',alpha=0.7,color='red')\n",
    "plt.plot(freeze_c2,freeze_c1,'.',alpha=0.7,color='green')\n",
    "#plt.scatter(qthr1[c1[15]],-qthr2[c1[15]],alpha=0.7,color='k')\n",
    "#plt.scatter(qthr1[c1[14]],-qthr2[c1[14]],alpha=0.7,color='k')\n",
    "plt.plot(other_c2,other_c1,'.',alpha=0.7,color='goldenrod')\n",
    "\n",
    "plt.xlabel('Z1',fontsize=20)\n",
    "plt.ylabel('Z2',fontsize=20)\n",
    "\n",
    "plt.legend(['Passive Display','Active Display','Aggressive state (asymmetric)','Aggressive state(symmetric)','Freeze','Other'],fontsize=16)"
   ]
  },
  {
   "cell_type": "code",
   "execution_count": null,
   "metadata": {
    "hidden": true
   },
   "outputs": [],
   "source": []
  }
 ],
 "metadata": {
  "kernelspec": {
   "display_name": "Python 3",
   "language": "python",
   "name": "python3"
  },
  "language_info": {
   "codemirror_mode": {
    "name": "ipython",
    "version": 3
   },
   "file_extension": ".py",
   "mimetype": "text/x-python",
   "name": "python",
   "nbconvert_exporter": "python",
   "pygments_lexer": "ipython3",
   "version": "3.6.8"
  },
  "toc": {
   "base_numbering": 1,
   "nav_menu": {},
   "number_sections": true,
   "sideBar": true,
   "skip_h1_title": false,
   "title_cell": "Table of Contents",
   "title_sidebar": "Contents",
   "toc_cell": false,
   "toc_position": {},
   "toc_section_display": true,
   "toc_window_display": true
  }
 },
 "nbformat": 4,
 "nbformat_minor": 2
}
